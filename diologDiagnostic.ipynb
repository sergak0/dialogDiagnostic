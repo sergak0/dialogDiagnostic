{
  "nbformat": 4,
  "nbformat_minor": 0,
  "metadata": {
    "colab": {
      "name": "diologDiagnostic.ipynb",
      "provenance": []
    },
    "kernelspec": {
      "name": "python3",
      "display_name": "Python 3"
    },
    "accelerator": "GPU"
  },
  "cells": [
    {
      "cell_type": "code",
      "metadata": {
        "id": "-FcYx9PcXlKP",
        "colab_type": "code",
        "colab": {}
      },
      "source": [
        "from google.colab import files # Для работы с файлами \n",
        "import numpy as np # Для работы с данными \n",
        "import pandas as pd # Для работы с таблицами\n",
        "import matplotlib.pyplot as plt # Для вывода графиков\n",
        "import os # Для работы с файлами\n",
        "%matplotlib inline\n",
        "\n",
        "from tensorflow.keras import utils # Для работы с категориальными данными\n",
        "from tensorflow.keras.models import Sequential # Полносвязная модель\n",
        "from tensorflow.keras.layers import Dense, Dropout, SpatialDropout1D, BatchNormalization, Embedding, Flatten, Activation # Слои для сети\n",
        "from tensorflow.keras.preprocessing.text import Tokenizer # Методы для работы с текстами и преобразования их в последовательности\n",
        "from tensorflow.keras.preprocessing.sequence import pad_sequences # Метод для работы с последовательностями\n",
        "from tensorflow.keras.optimizers import Adam, Adadelta\n",
        "\n",
        "from sklearn.preprocessing import LabelEncoder # Метод кодирования тестовых лейблов\n",
        "from sklearn.model_selection import train_test_split # Для разделения выборки на тестовую и обучающую\n",
        "from google.colab import drive # Для работы с Google Drive\n",
        "import time # Импортируем библиотеку time\n",
        "import os"
      ],
      "execution_count": 47,
      "outputs": []
    },
    {
      "cell_type": "code",
      "metadata": {
        "id": "XoG1--x1Yfdc",
        "colab_type": "code",
        "colab": {
          "base_uri": "https://localhost:8080/",
          "height": 34
        },
        "outputId": "e938489d-ffd6-4134-b92e-6da764b9447a"
      },
      "source": [
        "drive.mount('/content/drive')"
      ],
      "execution_count": 8,
      "outputs": [
        {
          "output_type": "stream",
          "text": [
            "Drive already mounted at /content/drive; to attempt to forcibly remount, call drive.mount(\"/content/drive\", force_remount=True).\n"
          ],
          "name": "stdout"
        }
      ]
    },
    {
      "cell_type": "code",
      "metadata": {
        "id": "JV6zIbgDZmJY",
        "colab_type": "code",
        "colab": {
          "base_uri": "https://localhost:8080/",
          "height": 34
        },
        "outputId": "9a786876-523a-47eb-ecaf-b535bfeae7dd"
      },
      "source": [
        "name_data = os.listdir('/content/drive/My Drive/DATAS/DataDialog/')\n",
        "name_data"
      ],
      "execution_count": 52,
      "outputs": [
        {
          "output_type": "execute_result",
          "data": {
            "text/plain": [
              "['SonaGruhanova.zip', 'IvanKochkarev.zip', 'KsushaBorsheva.zip']"
            ]
          },
          "metadata": {
            "tags": []
          },
          "execution_count": 52
        }
      ]
    },
    {
      "cell_type": "code",
      "metadata": {
        "id": "WcpH9MM-YkfN",
        "colab_type": "code",
        "colab": {
          "base_uri": "https://localhost:8080/",
          "height": 67
        },
        "outputId": "8af9c637-40ed-4b6a-9fac-494404696cc7"
      },
      "source": [
        "import zipfile\n",
        "for name in name_data :\n",
        "  print (name)\n",
        "  zip_ref = zipfile.ZipFile(\"/content/drive/My Drive/DATAS/DataDialog/{}\".format(name), 'r')\n",
        "  zip_ref.extractall('/content/texts/{}'.format(name))\n",
        "  zip_ref.close()\n",
        "  #!unzip -q str('/content/drive/My Drive/DATAS/DataDialog/{}'.format(name)) -d str('/content/texts/{}'.format(name))"
      ],
      "execution_count": 53,
      "outputs": [
        {
          "output_type": "stream",
          "text": [
            "SonaGruhanova.zip\n",
            "IvanKochkarev.zip\n",
            "KsushaBorsheva.zip\n"
          ],
          "name": "stdout"
        }
      ]
    },
    {
      "cell_type": "code",
      "metadata": {
        "id": "2kf6_8kGcwLL",
        "colab_type": "code",
        "colab": {}
      },
      "source": [
        "dialogs = {}\n",
        "for name in name_data :\n",
        "  dialogs[name] = os.listdir('texts/{}'.format(name))"
      ],
      "execution_count": 54,
      "outputs": []
    },
    {
      "cell_type": "code",
      "metadata": {
        "id": "UAEbdwldc-X1",
        "colab_type": "code",
        "colab": {
          "base_uri": "https://localhost:8080/",
          "height": 588
        },
        "outputId": "9e14f868-4d88-4a39-ab24-e5356dfd4072"
      },
      "source": [
        "dialogs"
      ],
      "execution_count": 55,
      "outputs": [
        {
          "output_type": "execute_result",
          "data": {
            "text/plain": [
              "{'IvanKochkarev.zip': ['#3 07.05.2019_22.38 - 27.08.2019_15.58.txt',\n",
              "  '#0 05.09.2018_19.46 - 04.03.2019_19.56.txt',\n",
              "  '#6 25.03.2020_00.14 - 20.06.2020_14.18.txt',\n",
              "  '#1 04.03.2019_20.08 - 01.04.2019_21.01.txt',\n",
              "  '#4 27.08.2019_15.58 - 01.10.2019_20.30.txt',\n",
              "  '#2 01.04.2019_21.04 - 07.05.2019_22.38.txt',\n",
              "  '#5 01.10.2019_20.30 - 25.03.2020_00.14.txt'],\n",
              " 'KsushaBorsheva.zip': ['#4 16.04.2020_13.23 - 02.06.2020_07.57.txt',\n",
              "  '#1 21.10.2018_20.11 - 19.02.2019_21.57.txt',\n",
              "  '#0 02.08.2018_09.35 - 21.10.2018_20.11.txt',\n",
              "  '#3 21.06.2019_08.09 - 16.04.2020_13.23.txt',\n",
              "  '#2 19.02.2019_21.57 - 20.06.2019_23.11.txt'],\n",
              " 'SonaGruhanova.zip': ['#15 28.05.2018_17.44 - 01.08.2018_22.41.txt',\n",
              "  '#10 14.02.2018_23.14 - 08.03.2018_19.25.txt',\n",
              "  '#05 24.10.2017_21.18 - 01.11.2017_20.37.txt',\n",
              "  '#19 19.01.2019_21.19 - 23.04.2019_09.57.txt',\n",
              "  '#21 20.02.2020_22.29 - 03.06.2020_01.01.txt',\n",
              "  '#18 13.11.2018_21.19 - 19.01.2019_21.19.txt',\n",
              "  '#03 13.10.2017_11.06 - 19.10.2017_21.13.txt',\n",
              "  '#09 24.01.2018_18.25 - 14.02.2018_23.14.txt',\n",
              "  '#14 03.05.2018_19.58 - 28.05.2018_17.44.txt',\n",
              "  '#06 01.11.2017_20.37 - 08.12.2017_19.52.txt',\n",
              "  '#04 19.10.2017_21.13 - 24.10.2017_21.18.txt',\n",
              "  '#02 25.09.2017_22.01 - 13.10.2017_11.06.txt',\n",
              "  '#13 13.04.2018_15.50 - 03.05.2018_19.58.txt',\n",
              "  '#01 22.09.2017_21.17 - 25.09.2017_22.00.txt',\n",
              "  '#11 08.03.2018_19.25 - 27.03.2018_20.35.txt',\n",
              "  '#08 12.01.2018_16.33 - 24.01.2018_18.22.txt',\n",
              "  '#17 10.09.2018_16.51 - 13.11.2018_21.19.txt',\n",
              "  '#20 23.04.2019_10.01 - 20.02.2020_22.29.txt',\n",
              "  '#00 17.11.2015_17.44 - 22.09.2017_21.17.txt',\n",
              "  '#12 27.03.2018_20.35 - 13.04.2018_15.50.txt',\n",
              "  '#07 08.12.2017_19.52 - 12.01.2018_16.33.txt',\n",
              "  '#16 01.08.2018_22.42 - 10.09.2018_15.26.txt']}"
            ]
          },
          "metadata": {
            "tags": []
          },
          "execution_count": 55
        }
      ]
    },
    {
      "cell_type": "code",
      "metadata": {
        "id": "bziCYaN6b18R",
        "colab_type": "code",
        "colab": {
          "base_uri": "https://localhost:8080/",
          "height": 34
        },
        "outputId": "8231d929-53cb-49d6-ee6a-c2b5b3ee0baa"
      },
      "source": [
        "import codecs\n",
        "data = \"\"\n",
        "for name in name_data :\n",
        "  for filename in dialogs[name] :\n",
        "    f = codecs.open(\"texts/\" + name + '/' + filename, 'r')\n",
        "    data += '\\n' + f.read()\n",
        "data[:100]"
      ],
      "execution_count": 72,
      "outputs": [
        {
          "output_type": "execute_result",
          "data": {
            "text/plain": [
              "'\\nСоня Груханова [sontofi] :\\nне увидимся больше\\n\\nСоня Груханова [sontofi] :\\nблоооо\\n\\nСоня Груханова [s'"
            ]
          },
          "metadata": {
            "tags": []
          },
          "execution_count": 72
        }
      ]
    },
    {
      "cell_type": "code",
      "metadata": {
        "id": "S0JXq1BjedAx",
        "colab_type": "code",
        "colab": {}
      },
      "source": [
        "person = ['Сергей Вольнов [id203419100] :\\n', 'Соня Груханова [sontofi] :\\n', 'Иван Кочкарёв [ivankochkoryov] :\\n', 'Ксюша Борщёва [id236652243] :\\n']\n",
        "n = 4"
      ],
      "execution_count": 101,
      "outputs": []
    },
    {
      "cell_type": "code",
      "metadata": {
        "id": "L6ZST3ikCZ0x",
        "colab_type": "code",
        "colab": {
          "base_uri": "https://localhost:8080/",
          "height": 151
        },
        "outputId": "b1d4a028-68d3-4443-8774-b5a660bbea84"
      },
      "source": [
        "print(data[:100])"
      ],
      "execution_count": 73,
      "outputs": [
        {
          "output_type": "stream",
          "text": [
            "\n",
            "Соня Груханова [sontofi] :\n",
            "не увидимся больше\n",
            "\n",
            "Соня Груханова [sontofi] :\n",
            "блоооо\n",
            "\n",
            "Соня Груханова [s\n"
          ],
          "name": "stdout"
        }
      ]
    },
    {
      "cell_type": "code",
      "metadata": {
        "id": "LTSA2NrhdRjj",
        "colab_type": "code",
        "colab": {}
      },
      "source": [
        "data = data.replace('\\t', '\\n')\n",
        "x = data.split('\\n\\n')"
      ],
      "execution_count": 74,
      "outputs": []
    },
    {
      "cell_type": "code",
      "metadata": {
        "id": "JuReXsETeQJ6",
        "colab_type": "code",
        "colab": {}
      },
      "source": [
        "data = [\"\" for i in range(n)]\n",
        "for d in x :\n",
        "  if (\"#include\" in d) :\n",
        "    continue\n",
        "  for i in range(n) :\n",
        "   if person[i] in d :\n",
        "     data[i] += d.replace(person[i], \"\") + \" # \""
      ],
      "execution_count": 80,
      "outputs": []
    },
    {
      "cell_type": "code",
      "metadata": {
        "id": "lTQvofguDXbK",
        "colab_type": "code",
        "colab": {
          "base_uri": "https://localhost:8080/",
          "height": 34
        },
        "outputId": "8249ba98-107f-4dcd-e656-3e4e4b16228f"
      },
      "source": [
        "data[3][:100]"
      ],
      "execution_count": 81,
      "outputs": [
        {
          "output_type": "execute_result",
          "data": {
            "text/plain": [
              "'Нет, сначала начали заварушку с Францией, несколько поколений королей прошло и эта английская династ'"
            ]
          },
          "metadata": {
            "tags": []
          },
          "execution_count": 81
        }
      ]
    },
    {
      "cell_type": "code",
      "metadata": {
        "id": "kjpZ2r3QBH6a",
        "colab_type": "code",
        "colab": {
          "base_uri": "https://localhost:8080/",
          "height": 34
        },
        "outputId": "3452cf95-054b-46e7-c6dc-66efa3308eb7"
      },
      "source": [
        "for i in range(n) :\n",
        "  data[i] = data[i].replace('\\n', ' # ')\n",
        "data[2][:100]"
      ],
      "execution_count": 82,
      "outputs": [
        {
          "output_type": "execute_result",
          "data": {
            "text/plain": [
              "' # Лкш # А лкш # Уже прошёл # И инополис # До 15 # Ну я могу #  # Ты указал # Что # Инополис школа #'"
            ]
          },
          "metadata": {
            "tags": []
          },
          "execution_count": 82
        }
      ]
    },
    {
      "cell_type": "code",
      "metadata": {
        "id": "-rWVnVMdCElq",
        "colab_type": "code",
        "colab": {}
      },
      "source": [
        "maxWordsCount = 15000\n",
        "tokenizer = Tokenizer(num_words = maxWordsCount, filters='!\"$%&()*+,-–—./…:;<=>?@[\\\\]^_`{|}~«»\\t\\n\\xa0', lower = True, split = ' ', oov_token = 'unknown', char_level = False)\n",
        "tokenizer.fit_on_texts(data)\n",
        "items = list(tokenizer.word_index.items())\n",
        "data = tokenizer.texts_to_sequences(data)"
      ],
      "execution_count": 83,
      "outputs": []
    },
    {
      "cell_type": "code",
      "metadata": {
        "id": "lve0fISLNYNq",
        "colab_type": "code",
        "colab": {
          "base_uri": "https://localhost:8080/",
          "height": 202
        },
        "outputId": "f01bdd39-7d93-4454-b0fb-be6981e6eea4"
      },
      "source": [
        "print(len(items))\n",
        "items[:10]"
      ],
      "execution_count": 84,
      "outputs": [
        {
          "output_type": "stream",
          "text": [
            "17263\n"
          ],
          "name": "stdout"
        },
        {
          "output_type": "execute_result",
          "data": {
            "text/plain": [
              "[('unknown', 1),\n",
              " ('#', 2),\n",
              " ('я', 3),\n",
              " ('не', 4),\n",
              " ('и', 5),\n",
              " ('а', 6),\n",
              " ('что', 7),\n",
              " ('в', 8),\n",
              " ('ты', 9),\n",
              " ('это', 10)]"
            ]
          },
          "metadata": {
            "tags": []
          },
          "execution_count": 84
        }
      ]
    },
    {
      "cell_type": "code",
      "metadata": {
        "id": "t3pIC3W8Ne-s",
        "colab_type": "code",
        "colab": {}
      },
      "source": [
        "def getSetFromIndexes(wordIndexes, xLen, step): # функция принимает последовательность индексов, размер окна, шаг окна\n",
        "  xSample = [] # Объявляем переменную для векторов\n",
        "  wordsLen = len(wordIndexes) # Считаем количество слов\n",
        "  index = 0 # Задаем начальный индекс \n",
        "\n",
        "  while (index + xLen <= wordsLen):# Идём по всей длине вектора индексов\n",
        "    xSample.append(wordIndexes[index:index+xLen]) # \"Откусываем\" векторы длины xLen\n",
        "    index += step # Смещаеммся вперёд на step\n",
        "    \n",
        "  return xSample"
      ],
      "execution_count": 85,
      "outputs": []
    },
    {
      "cell_type": "code",
      "metadata": {
        "id": "e4HT8HdHOWXk",
        "colab_type": "code",
        "colab": {}
      },
      "source": [
        "X = []\n",
        "Y = []\n",
        "for i in range(n) :\n",
        "  for j in getSetFromIndexes(data[i], 20, 10) :\n",
        "    X.append(j)\n",
        "    Y.append(utils.to_categorical(i, n))\n",
        "X = tokenizer.sequences_to_matrix(X, mode='binary')\n",
        "Y = np.array(Y)"
      ],
      "execution_count": 86,
      "outputs": []
    },
    {
      "cell_type": "code",
      "metadata": {
        "id": "4mIlydbGQVj5",
        "colab_type": "code",
        "colab": {
          "base_uri": "https://localhost:8080/",
          "height": 50
        },
        "outputId": "3e659d82-dccb-4ee0-d943-c9a9884ea4d7"
      },
      "source": [
        "print(X.shape)\n",
        "print(Y.shape)"
      ],
      "execution_count": 87,
      "outputs": [
        {
          "output_type": "stream",
          "text": [
            "(14671, 15000)\n",
            "(14671, 4)\n"
          ],
          "name": "stdout"
        }
      ]
    },
    {
      "cell_type": "code",
      "metadata": {
        "id": "noH3fOD1vlf7",
        "colab_type": "code",
        "colab": {
          "base_uri": "https://localhost:8080/",
          "height": 34
        },
        "outputId": "b30968b9-8296-4b17-d278-519848fe609b"
      },
      "source": [
        "X[2]"
      ],
      "execution_count": 88,
      "outputs": [
        {
          "output_type": "execute_result",
          "data": {
            "text/plain": [
              "array([0., 0., 1., ..., 0., 0., 0.])"
            ]
          },
          "metadata": {
            "tags": []
          },
          "execution_count": 88
        }
      ]
    },
    {
      "cell_type": "code",
      "metadata": {
        "id": "TPwZCjc7Qa_1",
        "colab_type": "code",
        "colab": {}
      },
      "source": [
        "x_train, x_test, y_train, y_test = train_test_split(X, Y, shuffle = True, test_size = 0.25, random_state = 42) "
      ],
      "execution_count": 89,
      "outputs": []
    },
    {
      "cell_type": "code",
      "metadata": {
        "id": "34-oKP2TTKHJ",
        "colab_type": "code",
        "colab": {
          "base_uri": "https://localhost:8080/",
          "height": 84
        },
        "outputId": "ff2ea87d-ecdb-439e-fb4a-b745a12897e7"
      },
      "source": [
        "print(x_train.shape)\n",
        "print(y_train.shape)\n",
        "print(x_test.shape)\n",
        "print(y_test.shape)"
      ],
      "execution_count": 90,
      "outputs": [
        {
          "output_type": "stream",
          "text": [
            "(11003, 15000)\n",
            "(11003, 4)\n",
            "(3668, 15000)\n",
            "(3668, 4)\n"
          ],
          "name": "stdout"
        }
      ]
    },
    {
      "cell_type": "code",
      "metadata": {
        "id": "IXtXTcikTY-O",
        "colab_type": "code",
        "colab": {
          "base_uri": "https://localhost:8080/",
          "height": 534
        },
        "outputId": "8076cd83-6e3e-4e35-c32f-df24fd6dfaec"
      },
      "source": [
        "model = Sequential()\n",
        "model.add(Dense(256, input_dim = maxWordsCount, activation = 'relu'))\n",
        "model.add(Dropout(0.25))\n",
        "model.add(Dense(32, activation = 'tanh'))\n",
        "model.add(Dropout(0.25))\n",
        "model.add(Dense(n, activation='softmax'))\n",
        "batch_size = [128, 100, 64, 32]\n",
        "lr = [0.001, 0.0001]\n",
        "epoch = [7, 3]\n",
        "\n",
        "T = 2\n",
        "fig, axs = plt.subplots(1, T, figsize=(25, 3))\n",
        "for i in range(T) :\n",
        "  model.compile(loss=\"categorical_crossentropy\", optimizer=Adam(lr[i]), metrics=[\"accuracy\", 'mae'])\n",
        "\n",
        "  history = model.fit(x_train, \n",
        "                      y_train, \n",
        "                      batch_size=batch_size[i], \n",
        "                      epochs=epoch[i],\n",
        "                      validation_data=(x_test, y_test),\n",
        "                      verbose=1)\n",
        "  axs[i].plot(history.history['accuracy'], label = 'train accuracy')\n",
        "  axs[i].plot(history.history['val_accuracy'], label = 'validation accuracy')\n",
        "  axs[i].legend()\n",
        "plt.xlabel('Epoch')\n",
        "plt.ylabel('% right answer')\n",
        "plt.show()"
      ],
      "execution_count": 103,
      "outputs": [
        {
          "output_type": "stream",
          "text": [
            "Epoch 1/7\n",
            "86/86 [==============================] - 1s 15ms/step - loss: 0.8262 - accuracy: 0.6699 - mae: 0.2472 - val_loss: 0.3880 - val_accuracy: 0.8653 - val_mae: 0.1233\n",
            "Epoch 2/7\n",
            "86/86 [==============================] - 1s 14ms/step - loss: 0.1948 - accuracy: 0.9396 - mae: 0.0659 - val_loss: 0.2601 - val_accuracy: 0.9089 - val_mae: 0.0720\n",
            "Epoch 3/7\n",
            "86/86 [==============================] - 1s 14ms/step - loss: 0.0560 - accuracy: 0.9865 - mae: 0.0217 - val_loss: 0.2230 - val_accuracy: 0.9220 - val_mae: 0.0539\n",
            "Epoch 4/7\n",
            "86/86 [==============================] - 1s 14ms/step - loss: 0.0214 - accuracy: 0.9969 - mae: 0.0087 - val_loss: 0.2236 - val_accuracy: 0.9269 - val_mae: 0.0483\n",
            "Epoch 5/7\n",
            "86/86 [==============================] - 1s 14ms/step - loss: 0.0113 - accuracy: 0.9991 - mae: 0.0048 - val_loss: 0.2447 - val_accuracy: 0.9223 - val_mae: 0.0474\n",
            "Epoch 6/7\n",
            "86/86 [==============================] - 1s 14ms/step - loss: 0.0078 - accuracy: 0.9993 - mae: 0.0030 - val_loss: 0.2390 - val_accuracy: 0.9258 - val_mae: 0.0446\n",
            "Epoch 7/7\n",
            "86/86 [==============================] - 1s 14ms/step - loss: 0.0049 - accuracy: 0.9995 - mae: 0.0021 - val_loss: 0.2530 - val_accuracy: 0.9261 - val_mae: 0.0443\n",
            "Epoch 1/3\n",
            "111/111 [==============================] - 2s 15ms/step - loss: 0.0045 - accuracy: 0.9993 - mae: 0.0016 - val_loss: 0.2509 - val_accuracy: 0.9250 - val_mae: 0.0428\n",
            "Epoch 2/3\n",
            "111/111 [==============================] - 1s 13ms/step - loss: 0.0033 - accuracy: 0.9995 - mae: 0.0012 - val_loss: 0.2547 - val_accuracy: 0.9267 - val_mae: 0.0422\n",
            "Epoch 3/3\n",
            "111/111 [==============================] - 1s 13ms/step - loss: 0.0026 - accuracy: 0.9996 - mae: 0.0011 - val_loss: 0.2580 - val_accuracy: 0.9269 - val_mae: 0.0418\n"
          ],
          "name": "stdout"
        },
        {
          "output_type": "display_data",
          "data": {
            "image/png": "[encoded data removed]",
            "text/plain": [
              "<Figure size 1800x216 with 2 Axes>"
            ]
          },
          "metadata": {
            "tags": [],
            "needs_background": "light"
          }
        }
      ]
    },
    {
      "cell_type": "code",
      "metadata": {
        "id": "0pCydRlG0rBK",
        "colab_type": "code",
        "colab": {
          "base_uri": "https://localhost:8080/",
          "height": 34
        },
        "outputId": "3dfab43c-3291-45bc-ecd1-99986a657be6"
      },
      "source": [
        "x_test[0].shape"
      ],
      "execution_count": 104,
      "outputs": [
        {
          "output_type": "execute_result",
          "data": {
            "text/plain": [
              "(15000,)"
            ]
          },
          "metadata": {
            "tags": []
          },
          "execution_count": 104
        }
      ]
    },
    {
      "cell_type": "code",
      "metadata": {
        "id": "zHzmtz1m0e6X",
        "colab_type": "code",
        "colab": {
          "base_uri": "https://localhost:8080/",
          "height": 50
        },
        "outputId": "1e5f0907-b3d8-4335-88b0-d5a66c71b322"
      },
      "source": [
        "model.predict(x_test[0].reshape(1, 15000))"
      ],
      "execution_count": 105,
      "outputs": [
        {
          "output_type": "execute_result",
          "data": {
            "text/plain": [
              "array([[2.4977606e-03, 9.9567336e-01, 1.0674428e-03, 7.6132832e-04]],\n",
              "      dtype=float32)"
            ]
          },
          "metadata": {
            "tags": []
          },
          "execution_count": 105
        }
      ]
    },
    {
      "cell_type": "code",
      "metadata": {
        "id": "N30_syuxwHV2",
        "colab_type": "code",
        "colab": {
          "base_uri": "https://localhost:8080/",
          "height": 151
        },
        "outputId": "9ba87972-935c-44a2-e2d4-2f4212bcba09"
      },
      "source": [
        "for i in range(n) :\n",
        "  good = 0\n",
        "  all = 0\n",
        "  for ind, j in enumerate(y_test) :\n",
        "    if np.argmax(j) == i :\n",
        "      all += 1\n",
        "      if (np.argmax(model.predict(x_test[ind].reshape(1, maxWordsCount))) == i) :\n",
        "        good += 1\n",
        "  print (\"test_accuracy on \" + person[i] + \" = \", round(good / all * 100, 1), \"%\") "
      ],
      "execution_count": 111,
      "outputs": [
        {
          "output_type": "stream",
          "text": [
            "test_accuracy on Сергей Вольнов [id203419100] :\n",
            " =  91.8 %\n",
            "test_accuracy on Соня Груханова [sontofi] :\n",
            " =  94.1 %\n",
            "test_accuracy on Иван Кочкарёв [ivankochkoryov] :\n",
            " =  90.5 %\n",
            "test_accuracy on Ксюша Борщёва [id236652243] :\n",
            " =  93.8 %\n"
          ],
          "name": "stdout"
        }
      ]
    },
    {
      "cell_type": "code",
      "metadata": {
        "id": "6ddAVIDJ2di9",
        "colab_type": "code",
        "colab": {}
      },
      "source": [
        ""
      ],
      "execution_count": null,
      "outputs": []
    }
  ]
}